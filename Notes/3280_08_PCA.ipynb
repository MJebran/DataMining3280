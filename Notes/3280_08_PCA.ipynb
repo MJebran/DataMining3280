{
 "cells": [
  {
   "cell_type": "markdown",
   "metadata": {},
   "source": [
    "# Math 3480 - Machine Learning\n",
    "# 04 Principal Component Analysis\n",
    "\n",
    "Helpful videos:\n",
    "* https://www.youtube.com/watch?v=g-Hb26agBFg\n",
    "\n",
    "Desmos Graphics:\n",
    "* https://www.desmos.com/calculator/ywbgtwwvsi"
   ]
  },
  {
   "cell_type": "code",
   "execution_count": null,
   "metadata": {},
   "outputs": [],
   "source": [
    "import numpy as np\n",
    "import matplotlib.pyplot as plt"
   ]
  },
  {
   "cell_type": "markdown",
   "metadata": {},
   "source": [
    "PCA is based on the SVD, and is the bedrock dimensionality reduction technique, commonly used in statistics, probability, and other data science field.\n",
    "* Useful to uncover lower dimension variables from big data for analysis and to establish models\n",
    "\n",
    "Around since 1901. Can be considered as the Statistical Interpretation of SVD\n",
    "* Data-driven hierarchical coordinate system based on data to represent statistical variation in data\n",
    "\n",
    "$$X = \\begin{bmatrix}\n",
    "\\dots & x_1 & \\dots \\\\\n",
    "\\dots & x_2 & \\dots \\\\\n",
    " & \\vdots &\n",
    "\\end{bmatrix}$$\n",
    "\n",
    "Each row represents the measurements from a single experiment (consistent with statistics).\n",
    "\n",
    ">Procedure:\n",
    ">1. Compute mean row\n",
    ">$$\\bar{x}=\\frac{1}{n}\\sum_{j=1}^n x_j$$\n",
    ">$$\\bar{X}=\\begin{bmatrix}1\\\\1\\\\\\vdots\\\\1\\end{bmatrix}\\begin{bmatrix}\\qquad\\bar{x}\\qquad\\end{bmatrix}$$\n",
    ">  * Consider $\\bar{X}$ to be a matrix of nothing but the average value for each column"
   ]
  },
  {
   "cell_type": "code",
   "execution_count": 7,
   "metadata": {},
   "outputs": [
    {
     "data": {
      "text/plain": [
       "array([[-14.75753556,   6.79412132],\n",
       "       [ 21.97902667, -14.59012386],\n",
       "       [ -1.92120189,   4.83861941]])"
      ]
     },
     "execution_count": 7,
     "metadata": {},
     "output_type": "execute_result"
    }
   ],
   "source": [
    "# 1. Compute mean row\n",
    "#X = np.array([[1,3],[5,7],[2,4],[6,8],[1,1],[2,3],[1,2],[4,8],[4,3],[2,1]])\n",
    "X = (np.random.randn(20,2)*[15,2])\n",
    "\n",
    "# Rotate this matrix by an angle of pi/6\n",
    "theta = np.pi/6\n",
    "R = np.array([[np.cos(theta), -np.sin(theta)],\n",
    "              [np.sin(theta), np.cos(theta)]])\n",
    "\n",
    "X = X @ R\n",
    "X[0:3,:]"
   ]
  },
  {
   "cell_type": "code",
   "execution_count": 8,
   "metadata": {},
   "outputs": [
    {
     "data": {
      "text/plain": [
       "[<matplotlib.lines.Line2D at 0x1175ddcd0>]"
      ]
     },
     "execution_count": 8,
     "metadata": {},
     "output_type": "execute_result"
    },
    {
     "data": {
      "image/png": "[encoded data removed]",
      "text/plain": [
       "<Figure size 432x288 with 1 Axes>"
      ]
     },
     "metadata": {
      "needs_background": "light"
     },
     "output_type": "display_data"
    }
   ],
   "source": [
    "plt.plot(X[:,0],X[:,1],'.')\n",
    "#ax.spines['left'].set_position('center')"
   ]
  },
  {
   "cell_type": "code",
   "execution_count": 11,
   "metadata": {},
   "outputs": [
    {
     "name": "stdout",
     "output_type": "stream",
     "text": [
      "[[-3.98170712 -3.98170712]\n",
      " [ 3.6944514   3.6944514 ]\n",
      " [ 1.45870876  1.45870876]\n",
      " [-4.51685696 -4.51685696]\n",
      " [-2.71581241 -2.71581241]\n",
      " [-1.54752183 -1.54752183]\n",
      " [ 0.00738035  0.00738035]\n",
      " [-4.59612876 -4.59612876]\n",
      " [-1.42504992 -1.42504992]\n",
      " [ 1.00084679  1.00084679]\n",
      " [-2.66089373 -2.66089373]\n",
      " [ 0.92902219  0.92902219]\n",
      " [-0.55635619 -0.55635619]\n",
      " [ 5.64324075  5.64324075]\n",
      " [ 0.42445635  0.42445635]\n",
      " [ 3.36234645  3.36234645]\n",
      " [-2.04636532 -2.04636532]\n",
      " [-0.064137   -0.064137  ]\n",
      " [ 0.37307691  0.37307691]\n",
      " [ 0.68740393  0.68740393]]\n"
     ]
    },
    {
     "data": {
      "text/plain": [
       "[<matplotlib.lines.Line2D at 0x1176b31c0>]"
      ]
     },
     "execution_count": 11,
     "metadata": {},
     "output_type": "execute_result"
    },
    {
     "data": {
      "image/png": "[encoded data removed]",
      "text/plain": [
       "<Figure size 432x288 with 1 Axes>"
      ]
     },
     "metadata": {
      "needs_background": "light"
     },
     "output_type": "display_data"
    }
   ],
   "source": [
    "X_bar = np.mean(X,axis=1)                   # Calculate mean row\n",
    "X_bar = np.tile(X_bar,(X.shape[1],1)).T     # Columnize and shape it to the same shape as X\n",
    "print(X_bar)#[0:3,:]\n",
    "\n",
    "plt.plot(X[:,0],X[:,1],'.')\n",
    "plt.plot(X_bar[:,0],X_bar[:,1],'.',color='red')"
   ]
  },
  {
   "cell_type": "markdown",
   "metadata": {},
   "source": [
    ">2. Subtract the mean\n",
    ">$$B=X-\\bar{X}$$"
   ]
  },
  {
   "cell_type": "code",
   "execution_count": 12,
   "metadata": {},
   "outputs": [
    {
     "data": {
      "text/plain": [
       "array([[-10.77582844,  10.77582844],\n",
       "       [ 18.28457527, -18.28457527],\n",
       "       [ -3.37991065,   3.37991065]])"
      ]
     },
     "execution_count": 12,
     "metadata": {},
     "output_type": "execute_result"
    }
   ],
   "source": [
    "# 2. Subtract mean\n",
    "B = X-X_bar\n",
    "B[0:3,:]"
   ]
  },
  {
   "cell_type": "markdown",
   "metadata": {},
   "source": [
    ">3. Covariance matrix (correlation matrix from SVD) of rows of B:\n",
    ">$$C=B^TB$$\n",
    "\n",
    "The covariance matrix will look like this:\n",
    "$$C = \\begin{bmatrix}\n",
    "  var(x_1)     & covar(x_1,x_2) & covar(x_1,x_3) & \\dots \\\\\n",
    "covar(x_2,x_1) &   var(x_2)     & covar(x_2,x_3) & \\dots \\\\\n",
    "covar(x_3,x_1) & covar(x_3,x_2) &   var(x_3)     & \\dots \\\\\n",
    "\\vdots         &   \\vdots       &  \\vdots        & \\ddots  \n",
    "\\end{bmatrix}$$"
   ]
  },
  {
   "cell_type": "code",
   "execution_count": 13,
   "metadata": {},
   "outputs": [
    {
     "data": {
      "text/plain": [
       "array([[ 2109.24470986, -2109.24470986],\n",
       "       [-2109.24470986,  2109.24470986]])"
      ]
     },
     "execution_count": 13,
     "metadata": {},
     "output_type": "execute_result"
    }
   ],
   "source": [
    "# 3. Compute covariance Matrix of rows of B\n",
    "# Same as correlation matrix from SVD\n",
    "C = B.T @ B\n",
    "C"
   ]
  },
  {
   "cell_type": "markdown",
   "metadata": {},
   "source": [
    "\n",
    ">4. Compute eigenvalues and eigenvectors of covariance matrix $C$\n",
    ">$$v_1^T B^T B v_1$$\n",
    ">$$CV=VD$$\n",
    "\n",
    "$D$ is the eigenvalues, $V$ is the eigenvectors.\n",
    "\n",
    "Make a new matrix,\n",
    "$T=BV$\n",
    "\n",
    "* $T$ is a matrix of principal components\n",
    "* $V$ are the loadings.\n",
    "\n",
    "Relating this to SVDs, we get,\n",
    "$$B=U\\Sigma V^T \\qquad T=BV=U\\Sigma V^T V = U\\Sigma$$\n",
    "\n",
    "We can thus use the SVD to get the principal components and loadings, which are results of the very important statistical calculations.\n",
    "\n",
    "The eigenvalues of the matrix $D$ would be the square of the singular values $\\lambda = \\sigma^2$, which represents the variance of its corresponding principal component from the data.\n",
    "\n",
    "The percentage of the variance captured in the first $r$ principal components would be,\n",
    "$$\\frac{\\sum_{k=1}^r \\lambda_k}{\\sum_{k=1}^n \\lambda_k}$$\n",
    "We can use this select the first $r$ components to capture a given amount of variance (say, 95%)."
   ]
  },
  {
   "cell_type": "code",
   "execution_count": null,
   "metadata": {},
   "outputs": [],
   "source": [
    "# 4. Compute eigenvalues & eigenvectors of C\n",
    "U,S,V = np.linalg.svd(B, full_matrices=False)\n",
    "T = B @ V\n",
    "\n",
    "T"
   ]
  },
  {
   "cell_type": "code",
   "execution_count": null,
   "metadata": {},
   "outputs": [],
   "source": [
    "U"
   ]
  },
  {
   "cell_type": "code",
   "execution_count": null,
   "metadata": {},
   "outputs": [],
   "source": [
    "S"
   ]
  },
  {
   "cell_type": "markdown",
   "metadata": {},
   "source": [
    "__*Look at Brunton's file CH01_SEC05_1_PCAGaussian.ipynb*__"
   ]
  },
  {
   "cell_type": "markdown",
   "metadata": {},
   "source": [
    "## Eigenfaces"
   ]
  },
  {
   "cell_type": "markdown",
   "metadata": {},
   "source": [
    "Set of images from a number of students from Yale:\n",
    "* 36 students\n",
    "* 64 different images\n",
    "  * lights flash from different angles, giving a different perspective for each image\n",
    "\n",
    "Dataset available at http://databookuw.com/page-17/\n",
    "\n",
    "### Theory\n",
    "In Linear Algebra, we find that any vector in an n-dimensional space as a linear combination of the $n$ basis vectors. We are going to do the same with pictures. Every face is a combination of the $n$ principal components, which serve as the basis vectors for reconstructing a face.\n",
    "\n",
    "$$X = U\\Sigma V^T$$\n",
    "\n",
    "Every image is converted to a single column $x_i$ in the matrix $X$. Each column of $U$ will thus be the same size. We can multiply by $UU^T$ and not change an image's vector at all.\n",
    "$$x=UU^Tx$$\n",
    "\n",
    "Taking the first $r$ columns of $U$ will be the same as taking the first $r$ principal components of $X$. Unfortunately, we can't get a perfect reconstruction, but depending on how many principal components we take, we can get a good reconstruction.\n",
    "$$x \\approx U_rU_r^T x$$\n",
    "\n",
    "So, we can compress an image by taking the first $r$ components, then multiplying $x$ by $U_r^T$. If we save that as a file, then we have a compressed file with enough information to store and later reconstruct an image.\n",
    "$$\\alpha = U_r^T x$$\n",
    "\n",
    "Later, if someone has the same basis matrix $U$, then then can take the information you send and reconstruct the image.\n",
    "$$x\\approx U_r \\alpha = U_rU_r^T x$$"
   ]
  },
  {
   "cell_type": "markdown",
   "metadata": {},
   "source": [
    "__*Open Brunton's files CH01_SEC06_1.ipynb and CH01_SEC06_2_3_4.ipynb*__"
   ]
  },
  {
   "cell_type": "markdown",
   "metadata": {},
   "source": [
    "## Doing PCA using Scikit-Learn"
   ]
  },
  {
   "cell_type": "code",
   "execution_count": null,
   "metadata": {},
   "outputs": [],
   "source": []
  },
  {
   "cell_type": "code",
   "execution_count": null,
   "metadata": {},
   "outputs": [],
   "source": [
    "from sklearn.decomposition import PCA\n",
    "\n",
    "pca = PCA(n_components = 2)\n",
    "X2D = pca.fit_transform(X)\n",
    "\n",
    "# List the principal components\n",
    "print(pca.components_)\n",
    "\n",
    "# The Explained Variance Ratio tells how much of the variance is in each component\n",
    "print(pca.explained_variance_ratio_)"
   ]
  }
 ],
 "metadata": {
  "kernelspec": {
   "display_name": "Python 3",
   "language": "python",
   "name": "python3"
  },
  "language_info": {
   "codemirror_mode": {
    "name": "ipython",
    "version": 3
   },
   "file_extension": ".py",
   "mimetype": "text/x-python",
   "name": "python",
   "nbconvert_exporter": "python",
   "pygments_lexer": "ipython3",
   "version": "3.8.9"
  }
 },
 "nbformat": 4,
 "nbformat_minor": 4
}
