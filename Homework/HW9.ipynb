{
  "nbformat": 4,
  "nbformat_minor": 0,
  "metadata": {
    "colab": {
      "provenance": []
    },
    "kernelspec": {
      "name": "python3",
      "display_name": "Python 3"
    },
    "language_info": {
      "name": "python"
    }
  },
  "cells": [
    {
      "cell_type": "code",
      "execution_count": 1,
      "metadata": {
        "id": "7aKiuzh9ZSE5"
      },
      "outputs": [],
      "source": [
        "import seaborn as sns\n",
        "iris = sns.load_dataset('iris')\n",
        "X = iris[['sepal_length','sepal_width','petal_width']].values\n",
        "y = iris['petal_length'].values"
      ]
    },
    {
      "cell_type": "code",
      "source": [
        "import numpy as np\n",
        "import pandas as pd\n",
        "import seaborn as sns\n",
        "\n",
        "# Load the Iris dataset\n",
        "iris = sns.load_dataset('iris')\n",
        "X = iris[['sepal_length', 'sepal_width', 'petal_width']].values\n",
        "y = iris['petal_length'].values\n",
        "\n",
        "# Add a bias term to the feature matrix\n",
        "X_b = np.c_[np.ones(X.shape[0]), X]\n",
        "\n",
        "# Computing SVD\n",
        "u, s, vt = np.linalg.svd(X_b, full_matrices=False)  # Set full_matrices to False\n",
        "\n",
        "# Constructing the diagonal matrix with singular values\n",
        "ss_inv = np.diag(1/s)\n",
        "\n",
        "# Computing the pseudoinverse using SVD\n",
        "X_pseudo_inverse = vt.T @ ss_inv @ u.T\n",
        "\n",
        "# Compute the coefficients using the pseudo-inverse\n",
        "theta = X_pseudo_inverse @ y\n",
        "\n",
        "# Print the coefficients\n",
        "print(\"Coefficients:\", theta)\n",
        "\n",
        "# New measurements for prediction\n",
        "new_data = np.array([\n",
        "    [1, 5.0, 3.5, 1.3],\n",
        "    [1, 6.4, 2.9, 4.3],\n",
        "    [1, 7.7, 3.0, 6.1]\n",
        "])\n",
        "\n",
        "# Predictions for the new data\n",
        "predictions = new_data @ theta\n",
        "\n",
        "# Organize results into a table using pandas\n",
        "results_df = pd.DataFrame({\n",
        "    'Specimen ID': [1, 2, 3],\n",
        "    'Sepal Length': new_data[:, 1],\n",
        "    'Sepal Width': new_data[:, 2],\n",
        "    'Petal Width': new_data[:, 3],\n",
        "    'Predicted Petal Length': predictions\n",
        "})\n",
        "\n",
        "# Display the results table\n",
        "print(results_df)"
      ],
      "metadata": {
        "colab": {
          "base_uri": "https://localhost:8080/"
        },
        "id": "ILaXShhcZs4A",
        "outputId": "f85be815-7a78-41c2-bfe4-8076e2130d2c"
      },
      "execution_count": 5,
      "outputs": [
        {
          "output_type": "stream",
          "name": "stdout",
          "text": [
            "Coefficients: [-0.2627112   0.72913845 -0.64601244  1.44679341]\n",
            "   Specimen ID  Sepal Length  Sepal Width  Petal Width  Predicted Petal Length\n",
            "0            1           5.0          3.5          1.3                3.002769\n",
            "1            2           6.4          2.9          4.3                8.751550\n",
            "2            3           7.7          3.0          6.1               12.239057\n"
          ]
        }
      ]
    }
  ]
}